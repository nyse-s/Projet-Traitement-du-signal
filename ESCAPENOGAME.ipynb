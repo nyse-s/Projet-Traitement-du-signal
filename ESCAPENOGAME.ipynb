"""IMPORTATION DES BIBLIOTHEQUES"""

import matplotlib.pyplot as plt
import numpy as np
from scipy.io.wavfile import read,write
from IPython.display import clear_output
import sounddevice as sd
from scipy.signal import periodogram

# 1. PHASE D'EMISSION

Il s'agit de l'endroit où nous allons écrire nottre message à transmettre.
