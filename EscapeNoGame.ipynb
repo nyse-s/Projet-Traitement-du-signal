{
 "cells": [
  {
   "cell_type": "markdown",
   "id": "5c7c1171",
   "metadata": {},
   "source": [
    "# <center><font color=b>**Livrable 4 : Modélisation numérique**</font> \n",
    "    \n",
    "![Onde sonore](https://developer.huawei.com/images/AI/HiAI-Engine/spectral-super-resolution/_840_480.jpg)\n",
    "  \n",
    "## PROJET : ESCAPE NO GAME\n",
    "    \n",
    "**Groupe B2b :** \n",
    " - **Lesage Hugo**\n",
    " - **Soret Sény**\n",
    " - **Maret Eloi**\n",
    " - **JAFFRES Jérémy**                                              \n",
    "    \n",
    "**Tuteur : VICTOR Guillaume**\n",
    "    \n",
    "  ###### CPI A1 Traitement du Signal, 16 décembre 2021 "
   ]
  },
  {
   "cell_type": "markdown",
   "id": "2ed15af9",
   "metadata": {},
   "source": [
    "# <font color=b>Table des matières</font>\n",
    "\n",
    "* <font color=b>Introduction</font>\n",
    "    \n",
    "    \n",
    "* <font color=b>1. Phase d'émission</font>\n",
    "    \n",
    "    * <font color=b>1.1 Conversion du message en ascii puis en binare</font>    \n",
    "    * <font color=b>1.2 Création du bit de parité</font>    \n",
    "    * <font color=b>1.3 Création de la trame</font>    \n",
    "    * <font color=b>1.4 Création du controle de redondance cyclique</font>  \n",
    "    * <font color=b>1.5 Encodage de la trame avec le manchester</font>  \n",
    "    * <font color=b>1.6 Modulation au choix ASK ou FSK</font>  \n",
    "\n",
    "* <font color=b>2. Phase de réception</font>\n",
    "    \n",
    "    * <font color=b>2.1 Filtrage du signal recu par un filtre passe-bande</font>    \n",
    "    * <font color=b>2.2 Démodulation ASK ou FSK</font>    \n",
    "    * <font color=b>2.3 Décodage du signal en manchester</font>    \n",
    "    * <font color=b>2.4 Récupération de la trame après décodage</font>  \n",
    "    * <font color=b>2.5 Controle de redondance cyclique à la réception</font>  \n",
    "    * <font color=b>2.6 Récupération du message de la trame</font> \n",
    "    * <font color=b>2.7 Vérification de l'intégriter du message avec le bit de parité</font> \n",
    "    * <font color=b>2.8 Conversion du message binaire en chaine de caractère</font> \n",
    "    \n",
    "* <font color=b>3. Conclusion</font>    \n",
    "    * Bilan individuel\n",
    "    "
   ]
  },
  {
   "cell_type": "markdown",
   "id": "2931d0af",
   "metadata": {},
   "source": [
    "## <font color=b>**Introduction**</font>\n",
    "    \n",
    "### <font color=b>**Contexte**</font>   \n",
    "Après avoir localisé __l'organisation de cyber pirate__ du web à l'aide de signaux réseaux, __l'agent K57__ infiltré est resté bloqué dans la salle d’audioconférence, n'ayant à sa disposition qu'un __microphone__ branché au système d'audioconférence uniquement connecté au réseau lors de l'utilisation de la salle. Nous devons à tout prix prendre contact avec lui à l'aide de son __pad miniature spécial espion__, afin qu'il puisse récupérer les données de l'organisation de cybercriminalité, qui seront directement captés par le micro et envoyés dans le réseau.  \n",
    "\n",
    "Pour cela, l'agent K57 doit nous véhiculer un message en toute discrétion à l'aide d'un __signal non audible__. Le pad est capable d’émettre un signal à des __hautes fréquences__ contenant les informations à transmettre. Lorsque le message est reçu à l’agence, il doit être traité afin de __décrypter__ le message codé. Ainsi, nous devons donc réaliser le __filtrage d'un signal numériquement__.\n",
    "    \n",
    "### <font color=b>**Livrables attendus**</font> \n",
    "Il est attendu que nous créons le programme de toutes les manipulations du signal en Python pour simuler la communication et démontrer la faisabilité de notre solution, c’est-à-dire de comment évolue le signal émis par l’agent et comment il est véhiculé. \n",
    "\n",
    "    \n",
    "---"
   ]
  },
  {
   "cell_type": "code",
   "execution_count": 1,
   "id": "aa725067",
   "metadata": {},
   "outputs": [],
   "source": [
    "\"\"\"IMPORTATION DES BIBLIOTHEQUES\"\"\"\n",
    "\n",
    "import matplotlib.pyplot as plt\n",
    "import numpy as np\n",
    "from scipy.io.wavfile import read,write\n",
    "from IPython.display import clear_output\n",
    "import sounddevice as sd\n",
    "from scipy.signal import periodogram"
   ]
  },
  {
   "cell_type": "markdown",
   "id": "8dd43aee",
   "metadata": {},
   "source": [
    "# 1. PHASE D'EMISSION\n",
    "\n",
    "Il s'agit de l'endroit où nous allons écrire nottre message à transmettre."
   ]
  },
  {
   "cell_type": "code",
   "execution_count": 2,
   "id": "614a82f7",
   "metadata": {},
   "outputs": [
    {
     "name": "stdout",
     "output_type": "stream",
     "text": [
      "Veuillez entrer votre message (5 à 10 caractères) :Atable\n"
     ]
    }
   ],
   "source": [
    "# Message à envoyer à l'agence.\n",
    "# L'instruction input() permet de à l'utilisateur d'entrée son message.\n",
    "\n",
    "message_envoie = str(input(\"Veuillez entrer votre message (5 à 10 caractères) :\"))\n",
    "\n",
    "#Vérification des conditions (tant que notre message n'est pas entre 5 et 10 caractères, nous restons dans la boucle).\n",
    "\n",
    "while not 5 <= len(message_envoie) <= 10:\n",
    "    clear_output()\n",
    "    message_envoie = str(input(\"Veuillez entrer votre message (5 à 10 caractères) : \"))"
   ]
  },
  {
   "cell_type": "markdown",
   "id": "a94cf1e3",
   "metadata": {},
   "source": [
    "## 1.1 CONVERSION DU MESSAGE EN ASCII PUIS EN BINAIRE"
   ]
  },
  {
   "cell_type": "code",
   "execution_count": 3,
   "id": "0eb2c6ba",
   "metadata": {},
   "outputs": [
    {
     "name": "stdout",
     "output_type": "stream",
     "text": [
      "Conversion du message en binaire: [0, 1, 0, 0, 0, 0, 0, 1, 0, 1, 1, 1, 0, 1, 0, 0, 0, 1, 1, 0, 0, 0, 0, 1, 0, 1, 1, 0, 0, 0, 1, 0, 0, 1, 1, 0, 1, 1, 0, 0, 0, 1, 1, 0, 0, 1, 0, 1]\n"
     ]
    }
   ],
   "source": [
    "text_to_binary = \"\"  # variable qui stockera mon message binaire en chaine de caractère.\n",
    "for x in message_envoie: \n",
    "    # - l'instruction bin() convertit un nombre entier en binaire dans une chaîne.\n",
    "    # - l'instruction ord() renvoie le valeur représentant l’unicode d’un caractère spécifié.\n",
    "    # - l'instruction .zfill() ajoute des zéros au début de la chaîne, jusqu'à ce qu'elle atteigne la longueur spécifiée.\n",
    "    text_to_binary += bin(ord(x))[2:].zfill(8)  # Convertion de chaque caractères de notre mesage en binaire et concaténation.   \n",
    "\n",
    "message = []\n",
    "message[:] = text_to_binary #Ajoute chaque caractère du tableau un à un dans un tableau message.\n",
    "message_tab = [0 if i==\"0\"else 1 for i in message] # Remplacement des éléments du tableau \"message\" qui était sous la forme de chaine de caractère par des entiers \"1\" ou \"0\" dans le tableau \"message_tab\".\n",
    "print(\"Conversion du message en binaire:\",message_tab)"
   ]
  },
  {
   "cell_type": "markdown",
   "id": "764b20a7",
   "metadata": {},
   "source": [
    "## 1.2 BIT DE PARITE\n",
    "\n",
    "Nous allons utliser le controle de parite afin de s'assurer que le message sera bien dans son intrégaliter lors de la réception.\n",
    "Le principe est le suivnat : il compte le nombre de 1 définis dans chaque groupe de sept bits. Si le nombre de 1 défini est pair, il défini le bit de parité sur 1 sinon si le nombre de 1 défini est impair, il défini le bit de parité sur 0. "
   ]
  },
  {
   "cell_type": "code",
   "execution_count": 4,
   "id": "6cd381ae",
   "metadata": {},
   "outputs": [
    {
     "name": "stdout",
     "output_type": "stream",
     "text": [
      "Il y a 20 « 1 » dans le message binaire.\n",
      "Le bit de parité est de  1 .\n"
     ]
    }
   ],
   "source": [
    "#On initialise nos variables c et i étant égale à 0\n",
    "#La variable c correspond à notre bit de parité (au niveau de l'émission)\n",
    "\n",
    "c=0\n",
    "i=0\n",
    "bit_parite = 0\n",
    "#Calcul du nombre de 1 dans notre message binaire, si le nombre est impair, notre bit de parité est\n",
    "#à 1. Sinon 0.\n",
    "for i in message_tab:\n",
    "    if i==1:\n",
    "        c += 1\n",
    "        if c%2 == 0: # Vérification que le nombre c est pair ou impaire en calculant le reste de la division euclidienne de c par 2 \n",
    "            bit_parite = 1 # 1 si le reste est égale à 0\n",
    "        else:\n",
    "            bit_parite = 0 # 0 si le reste est différent de 0\n",
    "    \n",
    "print(\"Il y a\",c,\"« 1 » dans le message binaire.\")  \n",
    "print(\"Le bit de parité est de \",bit_parite,\".\")"
   ]
  },
  {
   "attachments": {
    "image.png": {
     "image/png": "[encoded data removed]"
    }
   },
   "cell_type": "markdown",
   "id": "a45ca601",
   "metadata": {},
   "source": [
    "## 1.3 CREATION DE LA TRAME\n",
    "Les transmissions sont généralement structurées sous forme de trames : un ensemble de bits successifs contenant les données à transmettre.\n",
    "\n",
    "La trame sera codée de la manière suivante :\n",
    "![image.png](attachment:image.png)"
   ]
  },
  {
   "cell_type": "code",
   "execution_count": 5,
   "id": "7d93ad67",
   "metadata": {},
   "outputs": [
    {
     "name": "stdout",
     "output_type": "stream",
     "text": [
      "La trame sera de la forme suivante: [0, 1, 1, 1, 1, 1, 1, 0, 0, 1, 0, 0, 0, 0, 0, 1, 0, 1, 1, 1, 0, 1, 0, 0, 0, 1, 1, 0, 0, 0, 0, 1, 0, 1, 1, 0, 0, 0, 1, 0, 0, 1, 1, 0, 1, 1, 0, 0, 0, 1, 1, 0, 0, 1, 0, 1, 1, 0, 1, 1, 1, 1, 1, 1, 0]\n"
     ]
    }
   ],
   "source": [
    "#On redéfinit c pour qu'il soit considéré comme un tableau pour pouvoir l'additionner avec d'autre tableau\n",
    "bit_parite = [bit_parite]\n",
    "\n",
    "#On définit la valeur de notre fanion de départ et de celui de fin\n",
    "fanion1 = [0,1,1,1,1,1,1,0]\n",
    "fanion2 = [0,1,1,1,1,1,1,0]\n",
    "\n",
    "\n",
    "#On ajoute nos fanions ainsi que notre bit de parité au message binaire afin de former une trame\n",
    "Trame = fanion1 + message_tab + bit_parite + fanion2\n",
    "\n",
    "#On affiche notre trame\n",
    "print (\"La trame sera de la forme suivante:\",Trame)"
   ]
  },
  {
   "cell_type": "markdown",
   "id": "6b328a1b",
   "metadata": {},
   "source": [
    "## 1.4 CONTROLE DE REDONDANCE CYCLIQUE (EMETEUR) \n",
    "\n",
    "Le contrôle de redondance cyclique (noté CRC, ou en anglais Cyclic Redundancy Check) est un moyen de contrôle d'intégrité de la trame. Il représente la principale méthode de détection d'erreur utilisée dans les télécommunications.\n",
    "\n",
    "Le principe du CRC consiste à traiter les séquences binaires comme des polynômes binaires, c'est-à-dire des polynômes dont les coefficients correspondent à la séquence binaire.\n"
   ]
  },
  {
   "cell_type": "code",
   "execution_count": 6,
   "id": "dedbb009",
   "metadata": {},
   "outputs": [
    {
     "name": "stdout",
     "output_type": "stream",
     "text": [
      "Les données à envoyer sont : 01111110010000010111010001100001011000100110110001100101101111110\n",
      "La clé CRC est: 10011\n",
      "Les données encodées avec la clé key sont : [0, 1, 1, 1, 1, 1, 1, 0, 0, 1, 0, 0, 0, 0, 0, 1, 0, 1, 1, 1, 0, 1, 0, 0, 0, 1, 1, 0, 0, 0, 0, 1, 0, 1, 1, 0, 0, 0, 1, 0, 0, 1, 1, 0, 1, 1, 0, 0, 0, 1, 1, 0, 0, 1, 0, 1, 1, 0, 1, 1, 1, 1, 1, 1, 0, 1, 1, 0, 1]\n"
     ]
    }
   ],
   "source": [
    "# Suite d'instruction qui permet de transformer un tableau de donées en chaine de caractère\n",
    "trame = \"\".join([\"0\" if i==0 else \"1\" for i in Trame])\n",
    "\n",
    "# Fonction qui effectue l'opération logique d'un ou exclusif\n",
    "def xor(a, b): \n",
    "   \n",
    "    # initialiser le résultat\n",
    "    result = [] \n",
    "    # si les bits sont idem, alors XOR vaut 0, sinon 1\n",
    "    for i in range(1, len(b)): \n",
    "        if a[i] == b[i]: \n",
    "            result.append('0') # l'instruction .append() permet d'ajouter un élément dans un tableau ou liste\n",
    "        else: \n",
    "            result.append('1') \n",
    "   \n",
    "    return ''.join(result) \n",
    "   \n",
    "# Fonction qui effectue la division euclidienne modulo 2\n",
    "def mod2div(divident, divisor): \n",
    "   \n",
    "    # Nombre de bits.\n",
    "    pick = len(divisor) \n",
    "    \n",
    "   \n",
    "    tmp = divident[0 : pick] \n",
    "   \n",
    "    while pick < len(divident): \n",
    "   \n",
    "        if tmp[0] == '1': \n",
    "        \n",
    "        \n",
    "            tmp = xor(divisor, tmp) + divident[pick] \n",
    "   \n",
    "        else:    \n",
    "            tmp = xor('0'*pick, tmp) + divident[pick] \n",
    "    \n",
    "        pick += 1\n",
    "    \n",
    "    if tmp[0] == '1': \n",
    "        tmp = xor(divisor, tmp) \n",
    "    else: \n",
    "        tmp = xor('0'*pick, tmp) \n",
    "   \n",
    "    checkword = tmp \n",
    "    return checkword \n",
    "    \n",
    "\n",
    "# Fonction utilisée du côté de l'expéditeur pour encoderles données en ajoutant le reste de la division modulaire à la fin des données.\n",
    "# On lui donne les données (augmentée de N-bits 0 qui est la taille de la clé) et la clé (Key) qui (polynome générateur)\n",
    "\n",
    "def encodageData(data, key): \n",
    "    l_key = len(key) \n",
    "    \n",
    "    # Ajoute n-1 zéros à la fin des données.\n",
    "    appended_data = data + '0'*(l_key-1) \n",
    "    remainder = mod2div(appended_data, key) \n",
    "   \n",
    "    # Ajouter le reste dans les données originales\n",
    "    codeword = data + remainder \n",
    "    return codeword\n",
    "\n",
    "\n",
    "key= '10011'\n",
    "print(\"Les données à envoyer sont :\",trame)\n",
    "\n",
    "print (\"La clé CRC est:\", key)\n",
    "\n",
    "# # On réalise l'encodage CRC\n",
    "# data_crc= encodeData(data,key)\n",
    "\n",
    "crc = encodageData(trame,key)\n",
    "# print(\"Encoded data for transmission: \", Encoded_data)\n",
    "crc = [0 if i==\"0\"else 1 for i in crc]\n",
    "\n",
    "print (\"Les données encodées avec la clé key sont :\",crc)"
   ]
  },
  {
   "cell_type": "markdown",
   "id": "e62dedbf",
   "metadata": {},
   "source": [
    "## 1.5 ENCODAGE MANCHESTER\n",
    "Pour coder le signal en Manchester , il faut faire une boucle avec un pas de 1. On commence par 0 et on fait 1 boucle pour chaque bit du message. Dans cette boucle on met une fonction if qui dit vérifie le bit de la matrice: si le bit est 0, alors on met un 0 puis un 1 dans notre nouvelle matrice, sinon (si le bit est 1) on met un 1 puis un 0.\n",
    "\n",
    "Au final l'information encodée deviendra illisible pour une tierce personne."
   ]
  },
  {
   "cell_type": "code",
   "execution_count": 7,
   "id": "f671f853",
   "metadata": {},
   "outputs": [
    {
     "name": "stdout",
     "output_type": "stream",
     "text": [
      "Les données codées en Manchester donnent: [0, 1, 1, 0, 1, 0, 1, 0, 1, 0, 1, 0, 1, 0, 0, 1, 0, 1, 1, 0, 0, 1, 0, 1, 0, 1, 0, 1, 0, 1, 1, 0, 0, 1, 1, 0, 1, 0, 1, 0, 0, 1, 1, 0, 0, 1, 0, 1, 0, 1, 1, 0, 1, 0, 0, 1, 0, 1, 0, 1, 0, 1, 1, 0, 0, 1, 1, 0, 1, 0, 0, 1, 0, 1, 0, 1, 1, 0, 0, 1, 0, 1, 1, 0, 1, 0, 0, 1, 1, 0, 1, 0, 0, 1, 0, 1, 0, 1, 1, 0, 1, 0, 0, 1, 0, 1, 1, 0, 0, 1, 1, 0, 1, 0, 0, 1, 1, 0, 1, 0, 1, 0, 1, 0, 1, 0, 1, 0, 0, 1, 1, 0, 1, 0, 0, 1, 1, 0]\n"
     ]
    }
   ],
   "source": [
    "codeManchester = [] # Initialisation de la matrice\n",
    "\n",
    "for i in range (0,len(crc)):  # Boucle qui va de 0 au nombre total de bits du message\n",
    "    if crc[i]==0:             # Si le bit est 0\n",
    " \n",
    "        codeManchester.append(0)  # Bit de l'information\n",
    "        codeManchester.append(1)  # Bit de codage (sans réel sens)\n",
    " \n",
    "    else:                         # Si le bit est 1\n",
    " \n",
    "        codeManchester.append(1)  # Bit de l'information\n",
    "        codeManchester.append(0)  # Bit de codage (sans réel sens)\n",
    "        \n",
    "print (\"Les données codées en Manchester donnent:\", codeManchester)"
   ]
  },
  {
   "cell_type": "markdown",
   "id": "45a0f1ca",
   "metadata": {},
   "source": [
    "## 1.6  MODULATION AU CHOIX ASK OU FSK\n",
    "\n",
    "Modulation au choix ASK ou FSK de la trame encodée en manchester. "
   ]
  },
  {
   "cell_type": "code",
   "execution_count": 8,
   "id": "d4dc3949",
   "metadata": {},
   "outputs": [
    {
     "name": "stdout",
     "output_type": "stream",
     "text": [
      "Veuillez saisir le type de modulation souhaiter(ASK ou FSK tout en majuscule):FSK\n"
     ]
    },
    {
     "data": {
      "image/png": "[encoded data removed]",
      "text/plain": [
       "<Figure size 720x432 with 1 Axes>"
      ]
     },
     "metadata": {
      "needs_background": "light"
     },
     "output_type": "display_data"
    },
    {
     "data": {
      "image/png": "[encoded data removed]",
      "text/plain": [
       "<Figure size 720x432 with 1 Axes>"
      ]
     },
     "metadata": {
      "needs_background": "light"
     },
     "output_type": "display_data"
    }
   ],
   "source": [
    "M =  codeManchester                 # Message binaire M\n",
    "\n",
    "Fe =  44100                         # Fréquence d'échantillonnage                        \n",
    "baud = 300                          # Débit souhaité sur le canal de transmission exprimé en bit/s\n",
    "Nbits =  len(M)                        # Nombre de bits initial (taille du message M)\n",
    "Ns = int(Fe/baud)                            # Nombre de symboles par bit (Fréq d'echan / Débit binaire) \n",
    "N = int(Ns*Nbits)                             # Nombre de bits total à moduler (Nombre de symboles par bit * Nombre de bits\n",
    "\n",
    "# On génère le message binaire dupliqué\n",
    "M_duplique= np.repeat(M,Ns)             # l'instruction repeat() permet de duliquer une données\n",
    "\n",
    "Choix = str(input(\"Veuillez saisir le type de modulation souhaiter(ASK ou FSK tout en majuscule):\"))\n",
    "\n",
    "if Choix == \"ASK\" : # condition qui vérifie que la chaine de caractère entrer est ASK\n",
    "    # On génère le vecteur temps\n",
    "    t = np.linspace(0,N/Fe,N)                        \n",
    "\n",
    "    # On génère la porteuse P(t)\n",
    "    Ap = 1                     \n",
    "    Fp =20000                        # Fréquence de l'onde porteuse \n",
    "    Porteuse = Ap*np.sin(2*np.pi*Fp*t)             \n",
    "\n",
    "    # On réalise la modualtion en amplitude  \n",
    "    ASK =  M_duplique*Porteuse                \n",
    "\n",
    "   \n",
    "    #Affichage du message M\n",
    "\n",
    "    plt.figure (figsize = (10,6))\n",
    "    plt.plot(t,M_duplique,'black')\n",
    "    plt.title('Message binaire')\n",
    "    plt.xlabel('temps (s)')\n",
    "    plt.ylabel('Amplitude')\n",
    "    plt.grid()\n",
    "\n",
    "    #Affichage de la porteuse \n",
    "\n",
    "    plt.figure (figsize = (10,6))\n",
    "    plt.plot(t,Porteuse,'b')\n",
    "    plt.title('Porteuse P(t)')\n",
    "    plt.xlim(0,0.020)\n",
    "    plt.xlabel('temps (s)')\n",
    "    plt.ylabel('Amplitude')\n",
    "    plt.grid()\n",
    "\n",
    "    #Affichage du résultat de la modualtion ASK\n",
    "\n",
    "    plt.figure (figsize = (10,6))\n",
    "    plt.plot(t,ASK,'r')\n",
    "    plt.title('Modulation ASK')\n",
    "    plt.xlabel('temps (s)')\n",
    "    plt.ylabel('Amplitude')\n",
    "    plt.grid()\n",
    "    \n",
    "if Choix == \"FSK\": # condition qui vérifie que la chaine de caractère entrer est FSK\n",
    "    \n",
    "    # Génération des 2 porteuse P1 pour le bit 1 et P2 pour le bit 0\n",
    "\n",
    "    A1 = 1                                                 # amplitude de la porteuse du bit 1                           \n",
    "    A2 = 1                                                 # amplitude de la porteuse du bit 0\n",
    "    fp1 = 500                                              # fréquence de la porteuse du bit 1\n",
    "    fp2 = 2000                                             # fréquence de la porteuse du bit 0\n",
    "    t1 = np.linspace (0.0,Ns/Fe,Ns)   # on peut aussi le générer avec la commande arange    t = np.arange (0.0,Ns)/Fe\n",
    "\n",
    "        # On génère le vecteur temps t\n",
    "\n",
    "    t = np.linspace (0.0,N/Fe,N)      # on peut aussi le générer avec la commande arange    t = np.arange (0.0,N)/Fe\n",
    "    # On génère des porteuses d'une longueur correspondant à Ns\n",
    "\n",
    "    P1 = [A1*np.sin(2*np.pi*fp1*tt) for tt in t1]          # porteuse du bit 1  \n",
    "    P2 = [A2*np.sin(2*np.pi*fp2*tt) for tt in t1]          # porteuse du bit 0\n",
    "\n",
    "    # On réalise la modulation FSK\n",
    "\n",
    "    FSK = []\n",
    "\n",
    "    for n in range(0,len(M)):\n",
    "        if (M[n] == 1):\n",
    "            FSK.extend(P1) # l'instruction .extend() permet d’étendre la liste en ajoutant tous les éléments à l’itérable.\n",
    "        else:\n",
    "            FSK.extend(P2)\n",
    "\n",
    "    # Affichage du Message binaire et le résultat de la modulation FSK\n",
    "\n",
    "    plt.figure (figsize = (10,6))\n",
    "    plt.plot(t,M_duplique,'black')\n",
    "    plt.xlabel('Temps [s]')\n",
    "    plt.title('Message binaire')\n",
    "\n",
    "    plt.figure (figsize = (10,6))\n",
    "    plt.plot(t,FSK,'r')\n",
    "    plt.xlabel('Temps [s]')\n",
    "    plt.title('Modulation FSK')\n",
    "\n",
    "    plt.show()\n",
    "    \n",
    "\n"
   ]
  },
  {
   "cell_type": "code",
   "execution_count": 9,
   "id": "68e10a85",
   "metadata": {},
   "outputs": [],
   "source": [
    "# Enregistrement du message dans un fichier son\n",
    "if Choix == \"ASK\": # condition qui vérifie que la chaine de caractère entrer est ASK\n",
    "    write(\"message_son.wav\",Fe,ASK) # l'instruction white() permet d'enregistrer une données dans un fichier wav\n",
    "    \n",
    "if Choix == \"FSK\": # condition qui vérifie que la chaine de caractère entrer est FSK\n",
    "    FSK = np.array(FSK,np.float32) # l'instruction np.array() permet de creer un tableau\n",
    "                                   # l'instruction np.float32 définit le type de donées qui sont dans le tableau \n",
    "    write(\"message_son.wav\",Fe,FSK)\n",
    "\n",
    "\n",
    "_,analogue_message = read('message_son.wav')\n",
    "sd.play(analogue_message, Fe)# L'instruction sd.play permet de jouer le son d'un fichier\n",
    "status = sd.wait() # Attendre la fin du son"
   ]
  },
  {
   "cell_type": "markdown",
   "id": "02125818",
   "metadata": {},
   "source": [
    "# 2. PHASE DE RECEPTION"
   ]
  },
  {
   "cell_type": "markdown",
   "id": "510335ce",
   "metadata": {},
   "source": [
    " Lecture du fichier audio."
   ]
  },
  {
   "cell_type": "code",
   "execution_count": 10,
   "id": "e7c243c1",
   "metadata": {},
   "outputs": [],
   "source": [
    "_,ecoute_message = read('message_son.wav') # l'instruction read() permet de lire un fichier."
   ]
  },
  {
   "cell_type": "markdown",
   "id": "3fbb17dd",
   "metadata": {},
   "source": [
    "## 2.1 FILTRAGE DU SIGNAL RECU PAR UN FILTRE PASSE-BANDE\n",
    "\n",
    "Nous effectuerons le filtre du signal reçu. Dans notre prototype, nous n'en avons pas besoin mais il est toujours bon de savoir comment cela fonctionne.\n",
    "Exemple de filtrage du signal électrique par un filtre passe-bande afin d'atténuer les signaux parasites dans le réseau.\n"
   ]
  },
  {
   "cell_type": "code",
   "execution_count": 11,
   "id": "cb8e2954",
   "metadata": {},
   "outputs": [
    {
     "data": {
      "image/png": "[encoded data removed]",
      "text/plain": [
       "<Figure size 432x288 with 1 Axes>"
      ]
     },
     "metadata": {
      "needs_background": "light"
     },
     "output_type": "display_data"
    }
   ],
   "source": [
    "# Création d'une sinusoïde qui aura le rôle du signal parasite.\n",
    "\n",
    "Freq_echant = 44100\n",
    "A = 1\n",
    "f = 150 # fréquence  qui correspond à la voie\n",
    "d = 1\n",
    "t2 = np.linspace(0,N/Fe,N)  \n",
    "\n",
    "s1 = A*np.sin(2*np.pi*f*t2)\n",
    "\n",
    "multi = ecoute_message * s1\n",
    "\n",
    " # Initialisation de la fréquence d'échantillonage de 44100 Hz.\n",
    "f,FFT = periodogram(multi,Freq_echant) # Calcul de la transformée de Fourier avec la fonction periodogram.\n",
    "\n",
    "# # Affichage du de la transformée de Fourier FFT du signal -----------------\n",
    "\n",
    "plt.plot(f,FFT)\n",
    "plt.xlim(19800,20100) # affichage via la fonction plot de Matplotlib.\n",
    "plt.xlabel('Fréquence (Hz)')        # définition de l'axe des abscisses.\n",
    "plt.ylabel('Module')                # définition de l'axe des ordonnées.\n",
    "plt.grid()\n",
    "plt.title ('Module de la Transformée de Fourier du signal multi=ASK*s1',fontsize=14)\n",
    "plt.show() \n"
   ]
  },
  {
   "cell_type": "code",
   "execution_count": 12,
   "id": "52f1b68e",
   "metadata": {},
   "outputs": [
    {
     "data": {
      "image/png": "[encoded data removed]",
      "text/plain": [
       "<Figure size 432x288 with 1 Axes>"
      ]
     },
     "metadata": {
      "needs_background": "light"
     },
     "output_type": "display_data"
    }
   ],
   "source": [
    "fc1 = 18000 # Première fréquence de coupure.\n",
    "fc2 = 20100 # Deuxième fréquence de coupure.\n",
    "\n",
    "FFT_filtre = FFT # Assignassion de la valeur du calcul de la transformer de fourier à une nouvelle variable.\n",
    "for i in range(len(f)):\n",
    "    if f[i] < fc1 and f[i] > fc2: # on coupe toutes les fréquences inférieur à 8000 Hz et supérieur à 30000 Hz. \n",
    "        FFT_filtre[i] = 0.0\n",
    "        \n",
    "# on calcule la transfomrée de Fourier inverse du signal après filtrage en utilsant la fonction ifft de Python.\n",
    "# la FFT inverse permet de revenir dans l'espace temporal (espace fréquentiel -> espace temps).\n",
    "        \n",
    "FFT_inverse = np.fft.ifft(FFT_filtre)\n",
    "\n",
    "# le résulat étant un nombre complexe, il nous faut représenter que la partie réelle, imaginaire ou le module.\n",
    "\n",
    "T = np.real(FFT_inverse) # l'instruction np.real() permet la conversion de nombre complexe en nombre réel.\n",
    "\n",
    "# # Affichage du de la partie réelle du calcule de la transformer de Fourier inverse -----------------\n",
    "\n",
    "plt.plot(T)         # affichage via la fonction plot de Matplotlib de la partie réelle\n",
    "plt.ylabel('Amplitude')# définition de l'axe des ordonnées\n",
    "plt.xlabel('Temps') \n",
    "plt.xlim(0, 200)\n",
    "plt.grid()\n",
    "plt.title ('Le signal obtenu après filtrage',fontsize=14)\n",
    "plt.show()     "
   ]
  },
  {
   "cell_type": "markdown",
   "id": "8a5362bc",
   "metadata": {},
   "source": [
    "# 2.2 DEMODULATION ASK OU FSK\n",
    "\n",
    "Démodulation au choix ASK ou FSK du signal binaire."
   ]
  },
  {
   "cell_type": "code",
   "execution_count": 13,
   "id": "e6513714",
   "metadata": {},
   "outputs": [],
   "source": [
    "if Choix == \"ASK\": # condition qui vérifie que la chaine de caractère entrer est ASK\n",
    "    S = Porteuse                      # générer la porteuse déja utilisée plus haut lors de la modulation (nommée Porteuse)\n",
    "\n",
    "    Produit = ecoute_message*S               # multiplier le signal modulé par la signal de la porteuse S1 (bit 1)\n",
    "\n",
    "    recu = []                                # Résulat de l'intégration                         \n",
    "    # Intégration des 2 résultats bit1 sur période de T = [0, Ns], Ns: taille du symbole envoyé \n",
    "    # par la méthode des trapèzes (fonction numpy.trapz en Python).\n",
    "\n",
    "    i = 0\n",
    "    for i in range(0,N,Ns):\n",
    "        recu.append(np.trapz(Produit[i:i+Ns]))\n",
    "    print(recu)\n",
    "\n",
    "\n",
    "\n",
    "    plt.figure (figsize = (10,6))\n",
    "    plt.plot(recu[:50])\n",
    "    plt.show()\n",
    "    \n",
    "if Choix == \"FSK\": # condition qui vérifie que la chaine de caractère entrer est FSK\n",
    "    Porteuse1 = np.tile(P1,Nbits)                # Porteuse du bit 1  \n",
    "    Porteuse2 = np.tile(P2,Nbits)                # Porteuse du bit 0 \n",
    "\n",
    "    bit1 = FSK*Porteuse1                         # Multiplier le signal modulé par la signal de la porteuse P1 (bit 1)\n",
    "    bit0 = FSK*Porteuse2                         # Multiplier le signal modulé par la signal de la porteuse P2 (bit 0)\n",
    "\n",
    "    # Intégration des 2 résultats bit1 et bit0 sur période de T = [0, Ns], Ns: taille du symbole envoyé \n",
    "    # par la méthode des trapèzes (fonction numpy.trapz en Python).\n",
    "\n",
    "    y1 = []                                      # Résulat de l'intégration du bit1                            \n",
    "    y2 = []                                      # Résulat de l'intégration du bit0\n",
    "\n",
    "    i=0\n",
    "\n",
    "    for i in range(0,N,Ns):\n",
    "        y1.append(np.trapz(bit1[i:i+Ns]))\n",
    "        y2.append(np.trapz(bit0[i:i+Ns]))"
   ]
  },
  {
   "cell_type": "code",
   "execution_count": 14,
   "id": "7b193384",
   "metadata": {},
   "outputs": [],
   "source": [
    "# Transformation du signal démoduler en suite de 0 et de 1\n",
    "if Choix == \"ASK\":\n",
    "    trame_demodule_ASK = []\n",
    "    for ii in range (0,len(recu)):\n",
    "        if recu[ii] > 0:\n",
    "            trame_demodule_ASK.extend([int(1)]) \n",
    "        if recu[ii] <= 0:\n",
    "            trame_demodule_ASK.extend([int(0)])\n",
    "            \n",
    "if Choix == \"FSK\":\n",
    "    trame_demodule_FSK = []\n",
    "\n",
    "    for ii in range (0,len(y1)):\n",
    "        if abs(y1[ii]) > abs(y2[ii]):\n",
    "            trame_demodule_FSK.extend([int(1)]) \n",
    "        if abs(y1[ii]) <= abs(y2[ii]):\n",
    "            trame_demodule_FSK.extend([int(0)]) \n"
   ]
  },
  {
   "cell_type": "markdown",
   "id": "a659a34d",
   "metadata": {},
   "source": [
    "## 2.3 DECODAGE MANCHESTER\n",
    "\n",
    "Décodage de la trame avec le codage Manchester. Le bit de l'information étant en premier nous faisons une boucle qui a un pas de 2, le bit indiqué par cette boucle sera à chaque fois intégré dans une variable tableau, ce qui éliminera 1 bit sur 2."
   ]
  },
  {
   "cell_type": "code",
   "execution_count": 15,
   "id": "ee9d01ff",
   "metadata": {},
   "outputs": [
    {
     "name": "stdout",
     "output_type": "stream",
     "text": [
      "La trame décodée par le codage manchester est la suivante: [0, 1, 1, 1, 1, 1, 1, 0, 0, 1, 0, 0, 0, 0, 0, 1, 0, 1, 1, 1, 0, 1, 0, 0, 0, 1, 1, 0, 0, 0, 0, 1, 0, 1, 1, 0, 0, 0, 1, 0, 0, 1, 1, 0, 1, 1, 0, 0, 0, 1, 1, 0, 0, 1, 0, 1, 1, 0, 1, 1, 1, 1, 1, 1, 0, 1, 1, 0, 1]\n"
     ]
    }
   ],
   "source": [
    "\"\"\" Décodage du signal binaire \"\"\"\n",
    "\n",
    "if Choix == \"ASK\":            \n",
    "    trame_decode = [int(trame_demodule_ASK[i]) for i in range(0, len(trame_demodule_ASK),2)]\n",
    "    print(\"La trame décodée par le codage manchester est la suivante:\",trame_decode)\n",
    "\n",
    "if Choix == \"FSK\":\n",
    "    trame_decode = [int(trame_demodule_FSK[i]) for i in range(0, len(trame_demodule_FSK),2)]\n",
    "    print(\"La trame décodée par le codage manchester est la suivante:\",trame_decode)"
   ]
  },
  {
   "cell_type": "markdown",
   "id": "9aedc9f1",
   "metadata": {},
   "source": [
    "## 2.4 RECUPERATION DE LA TRAME APRES DECODAGE"
   ]
  },
  {
   "cell_type": "code",
   "execution_count": 16,
   "id": "57b9a6ca",
   "metadata": {},
   "outputs": [
    {
     "name": "stdout",
     "output_type": "stream",
     "text": [
      "Voici la trame :  011111100100000101110100011000010110001001101100011001011011111101101\n"
     ]
    }
   ],
   "source": [
    "\"\"\" Transformation du tableau en chaîne de caractère \"\"\"\n",
    "\n",
    "trame_decoder = \"\".join([\"0\" if i==0 else \"1\" for i in trame_decode]) \n",
    "print(\"Voici la trame : \",trame_decoder)"
   ]
  },
  {
   "cell_type": "markdown",
   "id": "77772af3",
   "metadata": {},
   "source": [
    "## 2.5 CONTROLE DE REDONDANCE CYCLIQUE (RECEPTEUR)"
   ]
  },
  {
   "cell_type": "code",
   "execution_count": 17,
   "id": "46860f77",
   "metadata": {},
   "outputs": [
    {
     "name": "stdout",
     "output_type": "stream",
     "text": [
      "Le reste de la division après décodage est ->0000\n",
      "Super! les données -> 011111100100000101110100011000010110001001101100011001011011111101101 <- sont bien reçues dans leurs intégraliter!\n"
     ]
    }
   ],
   "source": [
    "\"\"\" Décodage de la trame avec le controle de redondance cyclique \"\"\"\n",
    "\n",
    "# Fonction qui effectue l'opération logique d'un ou exclusif \n",
    "def xor(a, b): \n",
    "   \n",
    "    # initialiser le résultat\n",
    "    result = [] \n",
    "   \n",
    "\n",
    "    # si les bits sont idem, alors XOR vaut 0, sinon 1\n",
    "    for i in range(1, len(b)): \n",
    "        if a[i] == b[i]: \n",
    "            result.append('0') \n",
    "        else: \n",
    "            result.append('1') \n",
    "   \n",
    "    return ''.join(result) \n",
    "   \n",
    "# Fonction qui effectue la division euclidienne modulo 2\n",
    "def mod2div(divident, divisor): \n",
    "   \n",
    "    pick = len(divisor) \n",
    "    tmp = divident[0 : pick] \n",
    "   \n",
    "    while pick < len(divident): \n",
    "   \n",
    "        if tmp[0] == '1': \n",
    "\n",
    "            tmp = xor(divisor, tmp) + divident[pick] \n",
    "   \n",
    "        else:    \n",
    "            tmp = xor('0'*pick, tmp) + divident[pick] \n",
    "    \n",
    "        pick += 1\n",
    "    \n",
    "    if tmp[0] == '1': \n",
    "        tmp = xor(divisor, tmp) \n",
    "    else: \n",
    "        tmp = xor('0'*pick, tmp) \n",
    "   \n",
    "    checkword = tmp \n",
    "    return checkword \n",
    "\n",
    "# Fonction utilisée du côté du récepteur pour décoder les données reçues par l'expéditeur \n",
    "# On donne la focntion décodeData les données encodées en CRC et la clé utilisée\n",
    "def decodeData(data_crc, key): \n",
    "   \n",
    "    l_key = len(key) \n",
    "    \n",
    "    # Ajoute n-1 zéros à la fin des données.\n",
    "    appended_data = data_crc + '0'*(l_key-1) \n",
    "    remainder = mod2div(appended_data, key) \n",
    "   \n",
    "    return remainder \n",
    "\n",
    "\n",
    "\n",
    "key= '10011'   # On utilise la même clé à l'émission (polynome générateur)\n",
    "check = decodeData(trame_decoder, key) \n",
    "\n",
    "\n",
    "\n",
    "print(\"Le reste de la division après décodage est ->\"+check) \n",
    "temp = \"0\" * (len(key) - 1) \n",
    "\n",
    "\n",
    "if check == temp: \n",
    "    print(\"Super! les données -> \"+trame_decoder+ \" <- sont bien reçues dans leurs intégraliter!\") \n",
    "else: \n",
    "    print (\"Erreur de réception !\") \n"
   ]
  },
  {
   "cell_type": "markdown",
   "id": "62b8ae8f",
   "metadata": {},
   "source": [
    "## 2.6 RECUPERATION DU MESSAGE DE LA TRAME"
   ]
  },
  {
   "cell_type": "code",
   "execution_count": 18,
   "id": "01a721e1",
   "metadata": {},
   "outputs": [],
   "source": [
    "#On supprime nos fanions afin de garder seulement notre message encode avec le controle de redondance cyclique\n",
    "del trame_decode[(len(trame_decode)-12):(len(trame_decode))]\n",
    "del trame_decode[0:8]"
   ]
  },
  {
   "cell_type": "code",
   "execution_count": 19,
   "id": "7f2e3656",
   "metadata": {},
   "outputs": [
    {
     "name": "stdout",
     "output_type": "stream",
     "text": [
      "Voici la message sans les fanions de début et de fin :  0100000101110100011000010110001001101100011001011\n"
     ]
    }
   ],
   "source": [
    "\"\"\" Transformation du tableau en chaîne de caractère \"\"\"\n",
    "\n",
    "trame = \"\".join([\"0\" if i==0 else \"1\" for i in trame_decode])\n",
    "print(\"Voici la message sans les fanions de début et de fin : \",trame)"
   ]
  },
  {
   "cell_type": "markdown",
   "id": "408c6a4d",
   "metadata": {},
   "source": [
    "## 2.7 VERIFICATION DE L'INTEGRITE DU MESSAGE AVEC LE  BIT DE PARITE"
   ]
  },
  {
   "cell_type": "code",
   "execution_count": 20,
   "id": "1f878b74",
   "metadata": {},
   "outputs": [
    {
     "name": "stdout",
     "output_type": "stream",
     "text": [
      "Il n'y a pas d'erreur de réception : [0, 1, 0, 0, 0, 0, 0, 1, 0, 1, 1, 1, 0, 1, 0, 0, 0, 1, 1, 0, 0, 0, 0, 1, 0, 1, 1, 0, 0, 0, 1, 0, 0, 1, 1, 0, 1, 1, 0, 0, 0, 1, 1, 0, 0, 1, 0, 1]\n"
     ]
    }
   ],
   "source": [
    "#On calcul le bit de parité lors de la récéption du signal\n",
    "\n",
    "c1=0\n",
    "i=0\n",
    "\n",
    "#On supprime le dernier bit de la trame (elle correspond au bit de parité)\n",
    "del trame_decode[-1]\n",
    "\n",
    "#On calcul le bit de parité\n",
    "for i in range(len(trame_decode)):\n",
    "    if trame_decode[i]==1:\n",
    "        c1 = c1+1 \n",
    "    else:\n",
    "        c1 = c1\n",
    "        \n",
    "        \n",
    "# Vérification qu'il n'y a d'erreur à la réception du message        \n",
    "if c1 == c:\n",
    "    print(\"Il n'y a pas d'erreur de réception :\", trame_decode)\n",
    "else :\n",
    "    print(\"Il y a une erreur\")\n"
   ]
  },
  {
   "cell_type": "markdown",
   "id": "b06af3e5",
   "metadata": {},
   "source": [
    "## 2.8 CONVERSION DU MESSAGE BINAIRE EN CHAINE DE CARACTERE"
   ]
  },
  {
   "cell_type": "code",
   "execution_count": 21,
   "id": "c8424367",
   "metadata": {},
   "outputs": [
    {
     "name": "stdout",
     "output_type": "stream",
     "text": [
      "Le message reçu est :  Atable\n"
     ]
    }
   ],
   "source": [
    "# Transformation du tableau en chaine de caractère.\n",
    "\n",
    "bin_data = \"\"\n",
    "for elem in trame_decode:  \n",
    "    bin_data += str(elem)\n",
    "    \n",
    "data_reçu =' '\n",
    "\n",
    "# Fonction BinarytoDecimal() function (conversion bianire ==> décimal)\n",
    "def BinaryToDecimal(binary):  \n",
    "    binary1 = binary \n",
    "    decimal, i, n = 0, 0, 0 #initialisation des variables\n",
    "    \n",
    "    while(binary != 0): \n",
    "        dec = binary % 10\n",
    "        decimal = decimal + dec * pow(2, i) \n",
    "        binary = binary//10\n",
    "        i += 1\n",
    "    return (decimal)\n",
    "\n",
    "\n",
    "# Découper les données binaire d'entrée et la convertir en décimal puis la convertir en chaîne par bloc de 8 \n",
    "for i in range(0, len(bin_data), 8): \n",
    "    # découper le bin_data de la plage d'index [0, 7] (car une caractère ASCII est codé sur 7 bits) ett le stocker sous forme d'entier dans temp_data\n",
    "    temp_data = int(bin_data[i+1:i+8])\n",
    "      \n",
    "       \n",
    "    # Passer (temp_data) dans la fonction BinarytoDecimal ()\n",
    "    # pour obtenir la valeur décimale correspondante de (temp_data)\n",
    "    decimal_data = BinaryToDecimal(temp_data)\n",
    "\n",
    "    # Décodage de la valeur décimale renvoyée par\n",
    "    # la Fonction BinarytoDecimal (), en utilisant chr ()\n",
    "    # fonction qui renvoie la chaîne correspondante\n",
    "    # caractère pour une valeur ASCII donnée et enregistrez-le\n",
    "    # dans data_recu\n",
    "    data_reçu = data_reçu + chr(decimal_data) \n",
    "\n",
    "# Affichage du result \n",
    "print(\"Le message reçu est :\",data_reçu) "
   ]
  },
  {
   "cell_type": "markdown",
   "id": "a977de50",
   "metadata": {},
   "source": [
    "# CONCLUSION"
   ]
  },
  {
   "cell_type": "markdown",
   "id": "29dd4d5f",
   "metadata": {},
   "source": [
    "Pour conclure, nous avons crée un programme qui simulera la chaine de transmission de l'envoi à la réception du message de l'agent. Avec ce dernier, il pourra communiquer de manière optimale et en toute discrétion !"
   ]
  },
  {
   "cell_type": "markdown",
   "id": "6facfe75",
   "metadata": {},
   "source": [
    "## BILAN INDIVIDUEL\n",
    "\n",
    "\n",
    "__Sény :__\n",
    "Ce dernier livrable a été satisfaisant à réaliser. J'ai beaucoup aimer programmer la chaine transmission de notre prototype. Lorsqu'un des membres de mon équipe était en difficulter, j'ai pu lui donner l'aide dont il avait besoin. Je suis fier de mon équipe, ils ont donner le meilleur d'eux même afin d'aider à la réalisation de ce projet.\n",
    "\n",
    "__Jeremy :__\n",
    "Ce dernier livrable fut compliqué à réaliser, il a fallu nous y reprendre à plusieurs fois afin que le code fonctionne parfaitement. Faire en même temps, ce code, le livrable3 et la préparation de la soutenance à demandé une grande organisation au sein de l'équipe, ce qui nous a permit de terminer à temps. Travaillé avec ce groupe fut un plaisir pour ma part, nous étions tous investi dans le  projet et ce jusqu'au bout.\n",
    "\n",
    "__Hugo :__\n",
    "Dernier livrable du projet ! Je dois avouer que c'est celui que j'ai le moins apprécié, notamment en raison des notions demandées (Python), mais je pense néanmoins avoir acquis de modestes bases. Avoir eu à le réaliser en même temps que le livrable 3 ne fut pas une mince affaire, mais grâce à notre esprit de cohésion nous avons su tout gérer et (je pense) bien nous en sortir. Concernant le bloc en lui-même, je l'ai assez apprécié en raison de ce qu'il a pu m'apporter (comme les équations différentielles, les circuits de filtrage et tout ce qui s'en suit...) et j'espère avoir l'occasion de m'épanouir d'avantage dans les prochains blocs !\n",
    "\n",
    "__Eloi :__\n",
    "Ce quatrième et dernier livrable, fut particulièrement compliqué surtout que nous devions le faire en parallèle du livrables 3 ainsi que la soutenance et je ne parle même pas des CCTL. celui-ci était le plus compliqué du projet j’ai beaucoup de mal sur python mais heureusement, comme je l’ai dit sur le dernier bilan personnel, que j’ai des camarades qui m’ont très bien expliqué et donc comprendre tout."
   ]
  }
 ],
 "metadata": {
  "kernelspec": {
   "display_name": "Python 3 (ipykernel)",
   "language": "python",
   "name": "python3"
  },
  "language_info": {
   "codemirror_mode": {
    "name": "ipython",
    "version": 3
   },
   "file_extension": ".py",
   "mimetype": "text/x-python",
   "name": "python",
   "nbconvert_exporter": "python",
   "pygments_lexer": "ipython3",
   "version": "3.8.8"
  }
 },
 "nbformat": 4,
 "nbformat_minor": 5
}
